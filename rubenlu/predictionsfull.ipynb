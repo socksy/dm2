{
 "metadata": {
  "name": "",
  "signature": "sha256:5b2e2077d1d378899a8e2a33c7cdd6120868faa2b53a3d39c457e4ff64477251"
 },
 "nbformat": 3,
 "nbformat_minor": 0,
 "worksheets": [
  {
   "cells": [
    {
     "cell_type": "code",
     "collapsed": true,
     "input": [
      "%matplotlib inline"
     ],
     "language": "python",
     "metadata": {},
     "outputs": [],
     "prompt_number": 1
    },
    {
     "cell_type": "code",
     "collapsed": false,
     "input": [
      "import numpy as np\n",
      "import pandas as pd\n",
      "import matplotlib.pyplot as plt\n",
      "\n",
      "from sklearn import tree\n",
      "from sklearn.datasets import load_iris\n",
      "from sklearn.externals.six import StringIO\n",
      "from sklearn.ensemble import RandomForestClassifier\n",
      "from sklearn.ensemble import ExtraTreesClassifier\n",
      "from sklearn.ensemble import AdaBoostClassifier\n",
      "from sklearn.ensemble import GradientBoostingClassifier\n",
      "from sklearn.cross_validation import KFold\n",
      "from sklearn.naive_bayes import GaussianNB\n",
      "from sklearn.neighbors import KNeighborsClassifier\n",
      "from sklearn import linear_model\n",
      "from sklearn import svm\n",
      "from sklearn.metrics import confusion_matrix"
     ],
     "language": "python",
     "metadata": {},
     "outputs": [],
     "prompt_number": 2
    },
    {
     "cell_type": "code",
     "collapsed": false,
     "input": [
      "auto = pd.read_csv(\"auto.csv\")\n",
      "test = pd.read_csv(\"autotest.csv\")"
     ],
     "language": "python",
     "metadata": {},
     "outputs": [],
     "prompt_number": 12
    },
    {
     "cell_type": "code",
     "collapsed": false,
     "input": [
      "# find out which columns are missing in the test data\n",
      "col_diff = list(set(auto.columns) - set(test.columns))\n",
      "\n",
      "# add missing columns to data frame and fill them with zeros\n",
      "auto_complete = auto.copy()\n",
      "test_complete = test.copy()\n",
      "\n",
      "for i in range(0, len(col_diff)):\n",
      "    test_complete[col_diff[i]] = np.zeros(len(test.RefId))"
     ],
     "language": "python",
     "metadata": {},
     "outputs": [],
     "prompt_number": 13
    },
    {
     "cell_type": "code",
     "collapsed": false,
     "input": [
      "# find out which columns are missing in the training data\n",
      "col_diff_2 = list(set(test_complete.columns) - set(auto_complete.columns))\n",
      "col_diff_2\n",
      "\n",
      "for e in range(0, len(col_diff_2)):\n",
      "    auto_complete[col_diff_2[e]] = np.zeros(len(auto.IsBadBuy))"
     ],
     "language": "python",
     "metadata": {},
     "outputs": [],
     "prompt_number": 14
    },
    {
     "cell_type": "code",
     "collapsed": false,
     "input": [
      "# check the shape of the training data\n",
      "print auto_complete.shape\n",
      "\n",
      "# check the shape of the test data\n",
      "print test_complete.shape"
     ],
     "language": "python",
     "metadata": {},
     "outputs": [
      {
       "output_type": "stream",
       "stream": "stdout",
       "text": [
        "(56303, 27)\n",
        "(56303, 27)\n"
       ]
      }
     ],
     "prompt_number": 15
    },
    {
     "cell_type": "code",
     "collapsed": false,
     "input": [
      "auto_complete.describe()"
     ],
     "language": "python",
     "metadata": {},
     "outputs": [
      {
       "html": [
        "<div style=\"max-height:1000px;max-width:1500px;overflow:auto;\">\n",
        "<table border=\"1\" class=\"dataframe\">\n",
        "  <thead>\n",
        "    <tr style=\"text-align: right;\">\n",
        "      <th></th>\n",
        "      <th>IsBadBuy</th>\n",
        "      <th>PurchDate</th>\n",
        "      <th>Auction</th>\n",
        "      <th>VehicleAge</th>\n",
        "      <th>Make</th>\n",
        "      <th>Model</th>\n",
        "      <th>Trim</th>\n",
        "      <th>Color</th>\n",
        "      <th>Transmission</th>\n",
        "      <th>WheelType</th>\n",
        "      <th>MilesPerYear</th>\n",
        "      <th>Size</th>\n",
        "      <th>AverageAcquisitionPrice</th>\n",
        "      <th>AverageCurrentPrice</th>\n",
        "      <th>DepreciationValue</th>\n",
        "      <th>PriceDiff</th>\n",
        "      <th>VNST</th>\n",
        "      <th>VehBCost</th>\n",
        "      <th>IsOnlineSale</th>\n",
        "      <th>WarrantyCost</th>\n",
        "      <th></th>\n",
        "    </tr>\n",
        "  </thead>\n",
        "  <tbody>\n",
        "    <tr>\n",
        "      <th>count</th>\n",
        "      <td> 56303.000000</td>\n",
        "      <td> 56303.000000</td>\n",
        "      <td> 56303.000000</td>\n",
        "      <td> 56303.000000</td>\n",
        "      <td> 56303.000000</td>\n",
        "      <td> 56303.000000</td>\n",
        "      <td> 56303.000000</td>\n",
        "      <td> 56303.000000</td>\n",
        "      <td> 56303.000000</td>\n",
        "      <td> 56303.000000</td>\n",
        "      <td> 56303.000000</td>\n",
        "      <td> 56303.000000</td>\n",
        "      <td> 56303.000000</td>\n",
        "      <td> 56303.000000</td>\n",
        "      <td> 56303.000000</td>\n",
        "      <td> 56303.000000</td>\n",
        "      <td> 56303.000000</td>\n",
        "      <td> 56303.000000</td>\n",
        "      <td> 56303.000000</td>\n",
        "      <td> 56303.000000</td>\n",
        "      <td>...</td>\n",
        "    </tr>\n",
        "    <tr>\n",
        "      <th>mean</th>\n",
        "      <td>     0.122445</td>\n",
        "      <td>     1.429764</td>\n",
        "      <td>     1.040335</td>\n",
        "      <td>     4.172282</td>\n",
        "      <td>     8.853898</td>\n",
        "      <td>   329.780687</td>\n",
        "      <td>    54.651582</td>\n",
        "      <td>     8.948653</td>\n",
        "      <td>     1.036090</td>\n",
        "      <td>     1.430155</td>\n",
        "      <td> 20488.837185</td>\n",
        "      <td>     5.804682</td>\n",
        "      <td>  7970.223612</td>\n",
        "      <td>  8120.553079</td>\n",
        "      <td>     6.275918</td>\n",
        "      <td>     2.272419</td>\n",
        "      <td>    16.578264</td>\n",
        "      <td>  6735.264866</td>\n",
        "      <td>     0.025061</td>\n",
        "      <td>  1275.074241</td>\n",
        "      <td>...</td>\n",
        "    </tr>\n",
        "    <tr>\n",
        "      <th>std</th>\n",
        "      <td>     0.327802</td>\n",
        "      <td>     1.127104</td>\n",
        "      <td>     0.660810</td>\n",
        "      <td>     1.713829</td>\n",
        "      <td>     7.837859</td>\n",
        "      <td>   177.928328</td>\n",
        "      <td>    35.974432</td>\n",
        "      <td>     5.140681</td>\n",
        "      <td>     0.187467</td>\n",
        "      <td>     0.592798</td>\n",
        "      <td> 10543.792119</td>\n",
        "      <td>     2.816152</td>\n",
        "      <td>  2861.330211</td>\n",
        "      <td>  2808.402837</td>\n",
        "      <td>   105.642986</td>\n",
        "      <td>    13.756942</td>\n",
        "      <td>    12.493939</td>\n",
        "      <td>  1766.677628</td>\n",
        "      <td>     0.156311</td>\n",
        "      <td>   597.380186</td>\n",
        "      <td>...</td>\n",
        "    </tr>\n",
        "    <tr>\n",
        "      <th>min</th>\n",
        "      <td>     0.000000</td>\n",
        "      <td>     0.000000</td>\n",
        "      <td>     0.000000</td>\n",
        "      <td>     1.000000</td>\n",
        "      <td>     0.000000</td>\n",
        "      <td>     0.000000</td>\n",
        "      <td>     0.000000</td>\n",
        "      <td>     1.000000</td>\n",
        "      <td>     0.000000</td>\n",
        "      <td>     0.000000</td>\n",
        "      <td>  1000.000000</td>\n",
        "      <td>     0.000000</td>\n",
        "      <td>     0.000000</td>\n",
        "      <td>     0.000000</td>\n",
        "      <td>   -60.000000</td>\n",
        "      <td>  -100.000000</td>\n",
        "      <td>     0.000000</td>\n",
        "      <td>     1.000000</td>\n",
        "      <td>     0.000000</td>\n",
        "      <td>   462.000000</td>\n",
        "      <td>...</td>\n",
        "    </tr>\n",
        "    <tr>\n",
        "      <th>25%</th>\n",
        "      <td>     0.000000</td>\n",
        "      <td>     0.000000</td>\n",
        "      <td>     1.000000</td>\n",
        "      <td>     3.000000</td>\n",
        "      <td>     4.000000</td>\n",
        "      <td>   202.000000</td>\n",
        "      <td>    10.000000</td>\n",
        "      <td>     3.000000</td>\n",
        "      <td>     1.000000</td>\n",
        "      <td>     1.000000</td>\n",
        "      <td> 14000.000000</td>\n",
        "      <td>     4.000000</td>\n",
        "      <td>  6000.000000</td>\n",
        "      <td>  6000.000000</td>\n",
        "      <td>    -8.000000</td>\n",
        "      <td>    -4.000000</td>\n",
        "      <td>     4.000000</td>\n",
        "      <td>  5445.000000</td>\n",
        "      <td>     0.000000</td>\n",
        "      <td>   837.000000</td>\n",
        "      <td>...</td>\n",
        "    </tr>\n",
        "    <tr>\n",
        "      <th>50%</th>\n",
        "      <td>     0.000000</td>\n",
        "      <td>     1.000000</td>\n",
        "      <td>     1.000000</td>\n",
        "      <td>     4.000000</td>\n",
        "      <td>     5.000000</td>\n",
        "      <td>   308.000000</td>\n",
        "      <td>    55.000000</td>\n",
        "      <td>     8.000000</td>\n",
        "      <td>     1.000000</td>\n",
        "      <td>     1.000000</td>\n",
        "      <td> 18000.000000</td>\n",
        "      <td>     6.000000</td>\n",
        "      <td>  8000.000000</td>\n",
        "      <td>  8000.000000</td>\n",
        "      <td>    -4.000000</td>\n",
        "      <td>     0.000000</td>\n",
        "      <td>    18.000000</td>\n",
        "      <td>  6705.000000</td>\n",
        "      <td>     0.000000</td>\n",
        "      <td>  1155.000000</td>\n",
        "      <td>...</td>\n",
        "    </tr>\n",
        "    <tr>\n",
        "      <th>75%</th>\n",
        "      <td>     0.000000</td>\n",
        "      <td>     2.000000</td>\n",
        "      <td>     1.000000</td>\n",
        "      <td>     5.000000</td>\n",
        "      <td>    13.000000</td>\n",
        "      <td>   481.000000</td>\n",
        "      <td>    80.000000</td>\n",
        "      <td>    14.000000</td>\n",
        "      <td>     1.000000</td>\n",
        "      <td>     2.000000</td>\n",
        "      <td> 24000.000000</td>\n",
        "      <td>     7.000000</td>\n",
        "      <td> 10000.000000</td>\n",
        "      <td> 10000.000000</td>\n",
        "      <td>    -1.000000</td>\n",
        "      <td>     6.000000</td>\n",
        "      <td>    31.000000</td>\n",
        "      <td>  7900.000000</td>\n",
        "      <td>     0.000000</td>\n",
        "      <td>  1623.000000</td>\n",
        "      <td>...</td>\n",
        "    </tr>\n",
        "    <tr>\n",
        "      <th>max</th>\n",
        "      <td>     1.000000</td>\n",
        "      <td>     3.000000</td>\n",
        "      <td>     2.000000</td>\n",
        "      <td>     9.000000</td>\n",
        "      <td>    31.000000</td>\n",
        "      <td>   669.000000</td>\n",
        "      <td>   130.000000</td>\n",
        "      <td>    16.000000</td>\n",
        "      <td>     2.000000</td>\n",
        "      <td>     3.000000</td>\n",
        "      <td> 97000.000000</td>\n",
        "      <td>    12.000000</td>\n",
        "      <td> 37000.000000</td>\n",
        "      <td> 36500.000000</td>\n",
        "      <td>   999.000000</td>\n",
        "      <td>   350.000000</td>\n",
        "      <td>    36.000000</td>\n",
        "      <td> 45469.000000</td>\n",
        "      <td>     1.000000</td>\n",
        "      <td>  7198.000000</td>\n",
        "      <td>...</td>\n",
        "    </tr>\n",
        "  </tbody>\n",
        "</table>\n",
        "<p>8 rows \u00d7 26 columns</p>\n",
        "</div>"
       ],
       "metadata": {},
       "output_type": "pyout",
       "prompt_number": 7,
       "text": [
        "           IsBadBuy     PurchDate       Auction    VehicleAge          Make  \\\n",
        "count  56303.000000  56303.000000  56303.000000  56303.000000  56303.000000   \n",
        "mean       0.122445      1.429764      1.040335      4.172282      8.853898   \n",
        "std        0.327802      1.127104      0.660810      1.713829      7.837859   \n",
        "min        0.000000      0.000000      0.000000      1.000000      0.000000   \n",
        "25%        0.000000      0.000000      1.000000      3.000000      4.000000   \n",
        "50%        0.000000      1.000000      1.000000      4.000000      5.000000   \n",
        "75%        0.000000      2.000000      1.000000      5.000000     13.000000   \n",
        "max        1.000000      3.000000      2.000000      9.000000     31.000000   \n",
        "\n",
        "              Model          Trim         Color  Transmission     WheelType  \\\n",
        "count  56303.000000  56303.000000  56303.000000  56303.000000  56303.000000   \n",
        "mean     329.780687     54.651582      8.948653      1.036090      1.430155   \n",
        "std      177.928328     35.974432      5.140681      0.187467      0.592798   \n",
        "min        0.000000      0.000000      1.000000      0.000000      0.000000   \n",
        "25%      202.000000     10.000000      3.000000      1.000000      1.000000   \n",
        "50%      308.000000     55.000000      8.000000      1.000000      1.000000   \n",
        "75%      481.000000     80.000000     14.000000      1.000000      2.000000   \n",
        "max      669.000000    130.000000     16.000000      2.000000      3.000000   \n",
        "\n",
        "       MilesPerYear          Size  AverageAcquisitionPrice  \\\n",
        "count  56303.000000  56303.000000             56303.000000   \n",
        "mean   20488.837185      5.804682              7970.223612   \n",
        "std    10543.792119      2.816152              2861.330211   \n",
        "min     1000.000000      0.000000                 0.000000   \n",
        "25%    14000.000000      4.000000              6000.000000   \n",
        "50%    18000.000000      6.000000              8000.000000   \n",
        "75%    24000.000000      7.000000             10000.000000   \n",
        "max    97000.000000     12.000000             37000.000000   \n",
        "\n",
        "       AverageCurrentPrice  DepreciationValue     PriceDiff          VNST  \\\n",
        "count         56303.000000       56303.000000  56303.000000  56303.000000   \n",
        "mean           8120.553079           6.275918      2.272419     16.578264   \n",
        "std            2808.402837         105.642986     13.756942     12.493939   \n",
        "min               0.000000         -60.000000   -100.000000      0.000000   \n",
        "25%            6000.000000          -8.000000     -4.000000      4.000000   \n",
        "50%            8000.000000          -4.000000      0.000000     18.000000   \n",
        "75%           10000.000000          -1.000000      6.000000     31.000000   \n",
        "max           36500.000000         999.000000    350.000000     36.000000   \n",
        "\n",
        "           VehBCost  IsOnlineSale  WarrantyCost      \n",
        "count  56303.000000  56303.000000  56303.000000 ...  \n",
        "mean    6735.264866      0.025061   1275.074241 ...  \n",
        "std     1766.677628      0.156311    597.380186 ...  \n",
        "min        1.000000      0.000000    462.000000 ...  \n",
        "25%     5445.000000      0.000000    837.000000 ...  \n",
        "50%     6705.000000      0.000000   1155.000000 ...  \n",
        "75%     7900.000000      0.000000   1623.000000 ...  \n",
        "max    45469.000000      1.000000   7198.000000 ...  \n",
        "\n",
        "[8 rows x 26 columns]"
       ]
      }
     ],
     "prompt_number": 7
    },
    {
     "cell_type": "code",
     "collapsed": false,
     "input": [
      "def mse(predicted, actual):\n",
      "    return np.mean((predicted-actual)**2) #isn't this actual mean squared error?"
     ],
     "language": "python",
     "metadata": {},
     "outputs": [],
     "prompt_number": 16
    },
    {
     "cell_type": "code",
     "collapsed": false,
     "input": [
      "def splitProbaList(l):\n",
      "    returnList = []\n",
      "    \n",
      "    for i in range(0, len(l)):\n",
      "        tempItem = l[i][1]\n",
      "        returnList.append(tempItem)\n",
      "        \n",
      "    return np.array(returnList)"
     ],
     "language": "python",
     "metadata": {},
     "outputs": [],
     "prompt_number": 17
    },
    {
     "cell_type": "code",
     "collapsed": false,
     "input": [
      "def cross_validation_error(data, model, folds=10):\n",
      "    errors = []\n",
      "    kf = KFold(len(data), n_folds=folds)\n",
      "    for train, test in kf:\n",
      "        #fit on training data\n",
      "        x_columns = [col for col in data.columns if col != \"IsBadBuy\"]\n",
      "        y_column = \"IsBadBuy\"\n",
      "        \n",
      "        mod = model.fit(data[x_columns].values[train],\n",
      "                        data[y_column].values[train])\n",
      "        \n",
      "        #get residual sum of squares from test data\n",
      "        predicted = mod.predict_proba(data[x_columns].values[test])\n",
      "        \n",
      "        # split the probabilities to get the probabilities of a 1\n",
      "        splitList = splitProbaList(predicted)\n",
      "        \n",
      "        err = mse(predicted, data[y_column].values[test])\n",
      "        errors.append(err)\n",
      "    return np.mean(errors)\n",
      "  "
     ],
     "language": "python",
     "metadata": {},
     "outputs": [],
     "prompt_number": 20
    },
    {
     "cell_type": "code",
     "collapsed": false,
     "input": [
      "def cross_validation_confusion(data, model, folds=10):\n",
      "    errors = []\n",
      "    matrix = []\n",
      "    kf = KFold(len(data), n_folds=folds)\n",
      "    for train, test in kf:\n",
      "        #fit on training data\n",
      "        x_columns = [col for col in data.columns if col != \"IsBadBuy\"]\n",
      "        y_column = \"IsBadBuy\"\n",
      "        \n",
      "        mod = model.fit(data[x_columns].values[train],\n",
      "                        data[y_column].values[train])\n",
      "        \n",
      "        #get residual sum of squares from test data\n",
      "        predicted = mod.predict(data[x_columns].values[test])\n",
      "               \n",
      "        mat = confusion_matrix(data[y_column].values[test],predicted)\n",
      "        matrix.append(mat)\n",
      "    return matrix"
     ],
     "language": "python",
     "metadata": {},
     "outputs": [],
     "prompt_number": 21
    },
    {
     "cell_type": "code",
     "collapsed": false,
     "input": [
      "def export_predictions(model, training, test, filename):\n",
      "    x_columns = [col for col in training.columns if col != \"IsBadBuy\"]\n",
      "    y_column = \"IsBadBuy\"\n",
      "    \n",
      "    mod = model.fit(training[x_columns].values, training[y_column].values)\n",
      "    predicted = mod.predict(test[x_columns].values)\n",
      "    #returns 2d array of proability complements\n",
      "    #but only interested in second value\n",
      "    \n",
      "    #hsplit splits columns, ravel flattens\n",
      "    predicted = np.hsplit(predicted, 2)[1].ravel()\n",
      "    \n",
      "    \n",
      "    df = pd.DataFrame(data={\"RefId\" : test['RefId'].values,\n",
      "                            \"IsBadBuy\" : predicted})\n",
      "    df.to_csv(filename, index=False, sep=',', cols=[\"RefId\", \"IsBadBuy\"])"
     ],
     "language": "python",
     "metadata": {},
     "outputs": [],
     "prompt_number": 22
    },
    {
     "cell_type": "code",
     "collapsed": false,
     "input": [
      "def gini(list_of_values):\n",
      "  sorted_list = sorted(list_of_values)\n",
      "  height, area = 0, 0\n",
      "  for value in sorted_list:\n",
      "    height += value\n",
      "    area += height - value / 2.\n",
      "  fair_area = height * len(list_of_values) / 2\n",
      "  return (fair_area - area) / fair_area"
     ],
     "language": "python",
     "metadata": {},
     "outputs": [],
     "prompt_number": 23
    },
    {
     "cell_type": "code",
     "collapsed": false,
     "input": [
      "def gini_predictions(model, training, test):\n",
      "    x_columns = [col for col in training.columns if col != \"IsBadBuy\"]\n",
      "    y_column = \"IsBadBuy\"\n",
      "    \n",
      "    mod = model.fit(training[x_columns].values, training[y_column].values)\n",
      "    predicted = mod.predict_proba(test[x_columns].values)\n",
      "    #returns 2d array of proability complements\n",
      "    #but only interested in second value\n",
      "    \n",
      "    #hsplit splits columns, ravel flattens\n",
      "    predicted = np.hsplit(predicted, 2)[1].ravel()\n",
      "    \n",
      "    \n",
      "    df = pd.DataFrame(data={\"RefId\" : test['RefId'].values,\n",
      "                            \"IsBadBuy\" : predicted})\n",
      "    df.to_csv(filename, index=False, sep=',', cols=[\"RefId\", \"IsBadBuy\"])"
     ],
     "language": "python",
     "metadata": {},
     "outputs": [],
     "prompt_number": 24
    },
    {
     "cell_type": "code",
     "collapsed": false,
     "input": [
      "classifiers = []\n",
      "classifiers.append((\"Decision\", tree.DecisionTreeClassifier(max_depth=6)))\n",
      "classifiers.append((\"Adaboost\", \n",
      "                    AdaBoostClassifier(tree.DecisionTreeClassifier(max_depth=6),\n",
      "                                       algorithm=\"SAMME\",\n",
      "                                       n_estimators=1)))\n",
      "classifiers.append((\"RandomForest\",\n",
      "                    RandomForestClassifier(n_estimators=1, min_samples_split=1, max_depth=5, random_state=0)))\n",
      "classifiers.append((\"ExtraTrees\",\n",
      "                    ExtraTreesClassifier(n_estimators=1, min_samples_split=1, max_depth=5, random_state=0)))\n",
      "classifiers.append((\"Gradient\",\n",
      "                    GradientBoostingClassifier(max_depth=2, learning_rate=1.0, n_estimators=3, random_state = 0)))\n"
     ],
     "language": "python",
     "metadata": {},
     "outputs": [],
     "prompt_number": 18
    },
    {
     "cell_type": "code",
     "collapsed": false,
     "input": [
      "for clf in classifiers:\n",
      "    print (clf[0], cross_validation_error(auto_complete, clf[1]))\n",
      "    "
     ],
     "language": "python",
     "metadata": {},
     "outputs": [
      {
       "output_type": "stream",
       "stream": "stdout",
       "text": [
        "('Decision', 0.10173527475567408)\n",
        "('Adaboost', 0.1017885575693801)"
       ]
      },
      {
       "output_type": "stream",
       "stream": "stdout",
       "text": [
        "\n",
        "('RandomForest', 0.12187617833655547)"
       ]
      },
      {
       "output_type": "stream",
       "stream": "stdout",
       "text": [
        "\n",
        "('ExtraTrees', 0.11201896820222232)"
       ]
      },
      {
       "output_type": "stream",
       "stream": "stdout",
       "text": [
        "\n",
        "('Gradient', 0.10368904942286941)"
       ]
      },
      {
       "output_type": "stream",
       "stream": "stdout",
       "text": [
        "\n"
       ]
      }
     ],
     "prompt_number": 25
    },
    {
     "cell_type": "code",
     "collapsed": false,
     "input": [
      "# get the predictions from all the trees\n",
      "for clf in classifiers:\n",
      "    export_predictions(clf[1], \n",
      "                   auto_complete, \n",
      "                   test_complete,\n",
      "                   clf[0]+'.csv')"
     ],
     "language": "python",
     "metadata": {},
     "outputs": [],
     "prompt_number": 13
    },
    {
     "cell_type": "code",
     "collapsed": false,
     "input": [
      "def getFeatureImportances(model, training):\n",
      "    x_columns = [col for col in training.columns if col != \"IsBadBuy\"]\n",
      "    y_column = \"IsBadBuy\"\n",
      "    \n",
      "    mod = model.fit(training[x_columns].values, training[y_column].values)\n",
      "    \n",
      "    return mod.feature_importances_  \n",
      "\n",
      "\n",
      "auto_x_columns = [col for col in auto_complete.columns if col != \"IsBadBuy\"]\n",
      "\n",
      "for clf in classifiers:\n",
      "    print clf[0]\n",
      "\n",
      "    # get the importances\n",
      "    importances = getFeatureImportances(clf[1], auto_complete)\n",
      "\n",
      "    impMap = {}\n",
      "\n",
      "    count = 0\n",
      "    for x in np.nditer(importances):\n",
      "        if x > 0:\n",
      "            impMap[str(auto_x_columns[count])] = x\n",
      "\n",
      "        count = count + 1\n",
      "        \n",
      "    print impMap"
     ],
     "language": "python",
     "metadata": {},
     "outputs": [
      {
       "output_type": "stream",
       "stream": "stdout",
       "text": [
        "Decision\n",
        "{'Trim': array(0.0034501433529989995), 'WarrantyCost': array(0.009040683990430516), 'Transmission': array(0.0027079121206234707), 'PurchYear': array(0.00863472557057587), 'Auction': array(0.03546127562196414), 'Season': array(0.0004498487154951337), 'Make': array(0.0015219815361730317), 'MilesPerYear': array(0.003077889296694561), 'Color': array(0.0009835999192373804), 'VehicleAge': array(0.09120422718706929), 'WheelType': array(0.6683327372580139), 'VNST': array(0.024390804866167324), 'Litres': array(0.006808591892650401), 'Cylinders': array(0.0006196679491195497), 'Model': array(0.002611744231819159), 'DepreciationValue': array(0.0022592001172028154), 'IsOnlineSale': array(0.0017390832854875483), 'VehBCost': array(0.02878671564351778), 'AverageAcquisitionPrice': array(0.009716046983306298), 'PriceDiff': array(0.0982031204614526)}"
       ]
      },
      {
       "output_type": "stream",
       "stream": "stdout",
       "text": [
        "\n",
        "Adaboost\n",
        "{'Trim': array(0.0034501433530398644), 'WarrantyCost': array(0.009040683990511316), 'Transmission': array(0.0027798896965423527), 'PurchYear': array(0.008634725570653014), 'Auction': array(0.035461275622281616), 'Season': array(0.000449848715498582), 'Make': array(0.0016596855248811584), 'MilesPerYear': array(0.0018291685447109638), 'Color': array(0.0009835999192461657), 'VehicleAge': array(0.09120422718084588), 'WheelType': array(0.6683327372620262), 'VNST': array(0.02501673208773426), 'Litres': array(0.006808591892710488), 'Model': array(0.0031625601866203355), 'DepreciationValue': array(0.002259200117263803), 'IsOnlineSale': array(0.0017390832855030862), 'VehBCost': array(0.028786715643761125), 'AverageAcquisitionPrice': array(0.009578342994668176), 'PriceDiff': array(0.09882278841150177)}"
       ]
      },
      {
       "output_type": "stream",
       "stream": "stdout",
       "text": [
        "\n",
        "RandomForest\n",
        "{'Trim': array(0.020459236886659314), 'WarrantyCost': array(0.06365091496284886), 'Season': array(0.01889554602880746), 'MilesPerYear': array(0.017841582438928406), 'VehicleAge': array(0.5260547719092445), 'AverageCurrentPrice': array(0.00462502154014451), 'Litres': array(0.004264254663216221), 'VehBCost': array(0.024741188204817046), 'DepreciationValue': array(0.06619705225725085), 'AverageAcquisitionPrice': array(0.1368816039602011), 'PriceDiff': array(0.11638882714788162)}"
       ]
      },
      {
       "output_type": "stream",
       "stream": "stdout",
       "text": [
        "\n",
        "ExtraTrees\n",
        "{'Trim': array(0.0023977012468422722), 'WarrantyCost': array(0.0002992094392077083), 'Cylinders': array(0.01074249624325196), 'PurchYear': array(0.016546921853151226), 'Auction': array(0.047446690358628155), 'Season': array(0.0010997176220177887), 'MilesPerYear': array(0.001999033364462926), 'WheelDrives': array(0.0018507205882053377), 'VehicleAge': array(0.21628218387420434), 'WheelType': array(0.6701006147246362), 'VNST': array(0.0005072432912111839), 'AverageCurrentPrice': array(0.0006152346991748304), 'Model': array(0.004899427297514763), 'DepreciationValue': array(0.0006414461999167994), 'EngineSize': array(0.0003987345306440143), 'VehBCost': array(0.017583633539791376), 'AverageAcquisitionPrice': array(0.0029635006332020056), 'PriceDiff': array(0.0036254904939370183)}"
       ]
      },
      {
       "output_type": "stream",
       "stream": "stdout",
       "text": [
        "\n",
        "Gradient\n",
        "{'VehBCost': array(0.21353277721721364), 'VehicleAge': array(0.20245786068454386), 'WheelType': array(0.571436121447756), 'AverageAcquisitionPrice': array(0.00740312775303355), 'PriceDiff': array(0.005170112897452981)}"
       ]
      },
      {
       "output_type": "stream",
       "stream": "stdout",
       "text": [
        "\n"
       ]
      }
     ],
     "prompt_number": 19
    },
    {
     "cell_type": "heading",
     "level": 1,
     "metadata": {},
     "source": [
      "Best variables"
     ]
    },
    {
     "cell_type": "code",
     "collapsed": false,
     "input": [
      "autobest = pd.read_csv(\"autobest.csv\")\n",
      "testbest = pd.read_csv(\"autotestbest.csv\")"
     ],
     "language": "python",
     "metadata": {},
     "outputs": [],
     "prompt_number": 5
    },
    {
     "cell_type": "heading",
     "level": 1,
     "metadata": {},
     "source": [
      "Basic tree"
     ]
    },
    {
     "cell_type": "code",
     "collapsed": false,
     "input": [
      "x = range(1,20)\n",
      "mse = []\n",
      "for i in x:\n",
      "    \n",
      "    a = cross_validation_error(auto, tree.DecisionTreeClassifier(max_depth=i), folds=10)\n",
      "    mse.append(a)\n",
      "\n",
      "\n",
      "plt.scatter(x,mse)\n",
      "plt.suptitle('Decision Tree Classifier max_depth vs MSE', fontsize=20)\n",
      "plt.xlabel('max_depth', fontsize=18)\n",
      "plt.ylabel('MSE (generalisation error', fontsize=16)"
     ],
     "language": "python",
     "metadata": {},
     "outputs": [
      {
       "metadata": {},
       "output_type": "pyout",
       "prompt_number": 44,
       "text": [
        "<matplotlib.text.Text at 0xe70dbd0>"
       ]
      },
      {
       "metadata": {},
       "output_type": "display_data",
       "png": "[encoded data removed]",
       "text": [
        "<matplotlib.figure.Figure at 0xe70e750>"
       ]
      }
     ],
     "prompt_number": 44
    },
    {
     "cell_type": "code",
     "collapsed": false,
     "input": [
      "cross_validation_error(autobest, tree.DecisionTreeClassifier(max_depth=5), folds=10)"
     ],
     "language": "python",
     "metadata": {},
     "outputs": [
      {
       "metadata": {},
       "output_type": "pyout",
       "prompt_number": 8,
       "text": [
        "0.10214378158462431"
       ]
      }
     ],
     "prompt_number": 8
    },
    {
     "cell_type": "code",
     "collapsed": false,
     "input": [
      "print cross_validation_confusion(autobest,tree.DecisionTreeClassifier(max_depth=5))"
     ],
     "language": "python",
     "metadata": {},
     "outputs": [
      {
       "output_type": "stream",
       "stream": "stdout",
       "text": [
        "[array([[4921,   26],\n",
        "       [ 523,  161]]), array([[4944,   24],\n",
        "       [ 518,  145]]), array([[4864,   26],\n",
        "       [ 601,  140]]), array([[4925,   35],\n",
        "       [ 534,  136]]), array([[4895,   34],\n",
        "       [ 550,  151]]), array([[4922,   34],\n",
        "       [ 505,  169]]), array([[4921,   30],\n",
        "       [ 526,  153]]), array([[4886,   39],\n",
        "       [ 532,  173]]), array([[4896,   30],\n",
        "       [ 541,  163]]), array([[4877,   80],\n",
        "       [ 563,  110]])]\n"
       ]
      }
     ],
     "prompt_number": 9
    },
    {
     "cell_type": "code",
     "collapsed": false,
     "input": [
      "zero_zero = (4921+4944+4864+4925+4895+4922+4921+4886+4896+4877)/10\n",
      "zero_one = (26+24+26+35+34+34+30+39+30+80)/10\n",
      "one_zero = (523+518+601+534+550+505+526+532+541+563)/10\n",
      "one_one = (161+145+140+136+151+169+153+173+163+110)/10\n",
      "print np.array([[zero_zero, zero_one],[one_zero, one_one]])"
     ],
     "language": "python",
     "metadata": {},
     "outputs": [
      {
       "output_type": "stream",
       "stream": "stdout",
       "text": [
        "[[4905   35]\n",
        " [ 539  150]]\n"
       ]
      }
     ],
     "prompt_number": 10
    },
    {
     "cell_type": "heading",
     "level": 1,
     "metadata": {},
     "source": [
      "Random Forest"
     ]
    },
    {
     "cell_type": "code",
     "collapsed": false,
     "input": [
      "x = range(1,40)\n",
      "mse = []\n",
      "for i in x:\n",
      "    \n",
      "    a = cross_validation_error(auto, RandomForestClassifier(n_estimators=i, min_samples_split=1, max_depth=5, random_state=0), folds=10)\n",
      "    mse.append(a)\n",
      "\n",
      "\n",
      "plt.scatter(x,mse)\n",
      "plt.suptitle('Random Forest Tree n_estimators vs MSE', fontsize=20)\n",
      "plt.xlabel('n_estimators', fontsize=18)\n",
      "plt.ylabel('MSE (generalisation error)', fontsize=16)"
     ],
     "language": "python",
     "metadata": {},
     "outputs": [
      {
       "metadata": {},
       "output_type": "pyout",
       "prompt_number": 51,
       "text": [
        "<matplotlib.text.Text at 0x9345190>"
       ]
      },
      {
       "metadata": {},
       "output_type": "display_data",
       "png": "[encoded data removed]",
       "text": [
        "<matplotlib.figure.Figure at 0xb021650>"
       ]
      }
     ],
     "prompt_number": 51
    },
    {
     "cell_type": "code",
     "collapsed": false,
     "input": [
      "x = range(1,40)\n",
      "mse = []\n",
      "for i in x:\n",
      "    \n",
      "    a = cross_validation_error(auto, RandomForestClassifier(n_estimators=5, min_samples_split=1, max_depth=i, random_state=0), folds=10)\n",
      "    mse.append(a)\n",
      "\n",
      "\n",
      "plt.scatter(x,mse)\n",
      "plt.suptitle('Random Forest Tree max_depth vs MSE', fontsize=20)\n",
      "plt.xlabel('max_depth', fontsize=18)\n",
      "plt.ylabel('MSE (generalisation error)', fontsize=16)"
     ],
     "language": "python",
     "metadata": {},
     "outputs": [
      {
       "metadata": {},
       "output_type": "pyout",
       "prompt_number": 50,
       "text": [
        "<matplotlib.text.Text at 0x9311610>"
       ]
      },
      {
       "metadata": {},
       "output_type": "display_data",
       "png": "[encoded data removed]",
       "text": [
        "<matplotlib.figure.Figure at 0x7f8aafed2b10>"
       ]
      }
     ],
     "prompt_number": 50
    },
    {
     "cell_type": "code",
     "collapsed": false,
     "input": [
      "cross_validation_error(autobest,RandomForestClassifier(n_estimators=5, min_samples_split=1, max_depth=24, random_state=0))"
     ],
     "language": "python",
     "metadata": {},
     "outputs": [
      {
       "metadata": {},
       "output_type": "pyout",
       "prompt_number": 93,
       "text": [
        "0.11548226592641027"
       ]
      }
     ],
     "prompt_number": 93
    },
    {
     "cell_type": "code",
     "collapsed": false,
     "input": [
      "print cross_validation_confusion(autobest,RandomForestClassifier(n_estimators=5, min_samples_split=1, max_depth=24, random_state=0))\n"
     ],
     "language": "python",
     "metadata": {},
     "outputs": [
      {
       "output_type": "stream",
       "stream": "stdout",
       "text": [
        "[array([[4919,   28],\n",
        "       [ 603,   81]]), array([[4946,   22],\n",
        "       [ 594,   69]]), array([[4868,   22],\n",
        "       [ 693,   48]]), array([[4927,   33],\n",
        "       [ 614,   56]]), array([[4902,   27],\n",
        "       [ 612,   89]]), array([[4936,   20],\n",
        "       [ 636,   38]]), array([[4919,   32],\n",
        "       [ 621,   58]]), array([[4894,   31],\n",
        "       [ 629,   76]]), array([[4890,   36],\n",
        "       [ 595,  109]]), array([[4896,   61],\n",
        "       [ 593,   80]])]\n"
       ]
      }
     ],
     "prompt_number": 91
    },
    {
     "cell_type": "code",
     "collapsed": false,
     "input": [
      "zero_zero = (4919+4946+4868+4927+4902+4936+4919+4894+4890+4896)/10\n",
      "zero_one = (28+22+22+33+27+20+32+31+36+61)/10\n",
      "one_zero = (603+594+693+614+612+636+621+629+595+593)/10\n",
      "one_one = (81+69+48+56+89+38+58+76+109+80)/10\n",
      "\n",
      "print np.array([[zero_zero,zero_one],[one_zero,one_one]])"
     ],
     "language": "python",
     "metadata": {},
     "outputs": [
      {
       "output_type": "stream",
       "stream": "stdout",
       "text": [
        "[[4909   31]\n",
        " [ 619   70]]\n"
       ]
      }
     ],
     "prompt_number": 95
    },
    {
     "cell_type": "heading",
     "level": 1,
     "metadata": {},
     "source": [
      "AdaBoost"
     ]
    },
    {
     "cell_type": "code",
     "collapsed": false,
     "input": [
      "x = range(1,40)\n",
      "mse = []\n",
      "for i in x:\n",
      "    \n",
      "    a = cross_validation_error(auto, AdaBoostClassifier(tree.DecisionTreeClassifier(max_depth=i),algorithm=\"SAMME\",n_estimators=1), folds=10)\n",
      "    mse.append(a)\n",
      "\n",
      "\n",
      "plt.scatter(x,mse)\n",
      "plt.suptitle('AdaBoost Tree max_depth vs MSE', fontsize=20)\n",
      "plt.xlabel('max_depth', fontsize=18)\n",
      "plt.ylabel('MSE (generalisation error)', fontsize=16)"
     ],
     "language": "python",
     "metadata": {},
     "outputs": [
      {
       "metadata": {},
       "output_type": "pyout",
       "prompt_number": 53,
       "text": [
        "<matplotlib.text.Text at 0x105c7d50>"
       ]
      },
      {
       "metadata": {},
       "output_type": "display_data",
       "png": "[encoded data removed]",
       "text": [
        "<matplotlib.figure.Figure at 0x583fd90>"
       ]
      }
     ],
     "prompt_number": 53
    },
    {
     "cell_type": "code",
     "collapsed": false,
     "input": [
      "x = range(1,20)\n",
      "mse = []\n",
      "for i in x:\n",
      "    \n",
      "    a = cross_validation_error(auto, AdaBoostClassifier(tree.DecisionTreeClassifier(max_depth=5),algorithm=\"SAMME\",n_estimators=i), folds=10)\n",
      "    mse.append(a)\n",
      "\n",
      "\n",
      "plt.scatter(x,mse)\n",
      "plt.suptitle('AdaBoost Tree n_estimators vs MSE', fontsize=20)\n",
      "plt.xlabel('n_estimator', fontsize=18)\n",
      "plt.ylabel('MSE (generalisation error)', fontsize=16)"
     ],
     "language": "python",
     "metadata": {},
     "outputs": [
      {
       "metadata": {},
       "output_type": "pyout",
       "prompt_number": 66,
       "text": [
        "<matplotlib.text.Text at 0x12f8b5d0>"
       ]
      },
      {
       "metadata": {},
       "output_type": "display_data",
       "png": "[encoded data removed]",
       "text": [
        "<matplotlib.figure.Figure at 0xb005f10>"
       ]
      }
     ],
     "prompt_number": 66
    },
    {
     "cell_type": "code",
     "collapsed": false,
     "input": [
      "cross_validation_error(autobest,AdaBoostClassifier(tree.DecisionTreeClassifier(max_depth=5),algorithm=\"SAMME\",n_estimators=5))"
     ],
     "language": "python",
     "metadata": {},
     "outputs": [
      {
       "metadata": {},
       "output_type": "pyout",
       "prompt_number": 98,
       "text": [
        "0.1021970580896856"
       ]
      }
     ],
     "prompt_number": 98
    },
    {
     "cell_type": "code",
     "collapsed": false,
     "input": [
      "print cross_validation_confusion(autobest,AdaBoostClassifier(tree.DecisionTreeClassifier(max_depth=5),algorithm=\"SAMME\",n_estimators=5))"
     ],
     "language": "python",
     "metadata": {},
     "outputs": [
      {
       "output_type": "stream",
       "stream": "stdout",
       "text": [
        "[array([[4921,   26],\n",
        "       [ 523,  161]]), array([[4944,   24],\n",
        "       [ 518,  145]]), array([[4863,   27],\n",
        "       [ 602,  139]]), array([[4925,   35],\n",
        "       [ 534,  136]]), array([[4895,   34],\n",
        "       [ 550,  151]]), array([[4922,   34],\n",
        "       [ 505,  169]]), array([[4921,   30],\n",
        "       [ 526,  153]]), array([[4884,   41],\n",
        "       [ 532,  173]]), array([[4896,   30],\n",
        "       [ 541,  163]]), array([[4877,   80],\n",
        "       [ 563,  110]])]\n"
       ]
      }
     ],
     "prompt_number": 97
    },
    {
     "cell_type": "code",
     "collapsed": false,
     "input": [
      "zero_zero = (4921+4944+4863+4925+4895+4922+4921+4884+4896+4877)/10\n",
      "zero_one = (26+24+27+35+34+34+30+41+30+80)/10\n",
      "one_zero = (523+518+602+534+550+505+526+532+541+563)/10\n",
      "one_one = (161+145+139+136+151+169+153+173+163+110)/10\n",
      "print np.array([[zero_zero,zero_one],[one_zero,one_one]])"
     ],
     "language": "python",
     "metadata": {},
     "outputs": [
      {
       "output_type": "stream",
       "stream": "stdout",
       "text": [
        "[[4904   36]\n",
        " [ 539  150]]\n"
       ]
      }
     ],
     "prompt_number": 99
    }
   ],
   "metadata": {}
  }
 ]
}